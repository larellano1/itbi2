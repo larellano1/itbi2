{
 "cells": [
  {
   "cell_type": "code",
   "execution_count": 64,
   "metadata": {},
   "outputs": [],
   "source": [
    "import pandas as pd\n",
    "import numpy as np\n",
    "import matplotlib.pyplot as plt"
   ]
  },
  {
   "cell_type": "code",
   "execution_count": 2,
   "metadata": {},
   "outputs": [],
   "source": [
    "import re\n",
    "\n",
    "files = ['itbi2019.xlsx', 'itbi2020.xlsx', 'itbi2021.xlsx', 'itbi2022.xlsx', 'itbi2023.xlsx']\n",
    "\n",
    "data = pd.DataFrame()\n",
    "\n",
    "for file in files:\n",
    "    sheets = [sheet for sheet in pd.read_excel(file, sheet_name=None).keys() if re.match(r'\\w{3}-\\d{4}',sheet) ]\n",
    "    df = pd.read_excel(file,sheet_name=sheets)\n",
    "    for mes in df.keys():\n",
    "        data = pd.concat([data, df[mes]])\n",
    "\n",
    "data.to_csv('itbi_data.csv', index=False, sep=';')\n"
   ]
  },
  {
   "cell_type": "code",
   "execution_count": 2,
   "metadata": {},
   "outputs": [
    {
     "name": "stderr",
     "output_type": "stream",
     "text": [
      "C:\\Users\\d805664\\AppData\\Local\\Temp\\ipykernel_21004\\382667148.py:1: DtypeWarning: Columns (2,8,17,19,25,27) have mixed types. Specify dtype option on import or set low_memory=False.\n",
      "  data = pd.read_csv('itbi_data.csv', sep=';')\n"
     ]
    }
   ],
   "source": [
    "data = pd.read_csv('itbi_data.csv', sep=';')"
   ]
  },
  {
   "cell_type": "code",
   "execution_count": 8,
   "metadata": {},
   "outputs": [
    {
     "name": "stdout",
     "output_type": "stream",
     "text": [
      "<class 'pandas.core.frame.DataFrame'>\n",
      "RangeIndex: 604771 entries, 0 to 604770\n",
      "Data columns (total 28 columns):\n",
      " #   Column                                            Non-Null Count   Dtype  \n",
      "---  ------                                            --------------   -----  \n",
      " 0   N° do Cadastro (SQL)                              604771 non-null  int64  \n",
      " 1   Nome do Logradouro                                604771 non-null  object \n",
      " 2   Número                                            604771 non-null  object \n",
      " 3   Complemento                                       513589 non-null  object \n",
      " 4   Bairro                                            394772 non-null  object \n",
      " 5   Referência                                        297002 non-null  object \n",
      " 6   CEP                                               604770 non-null  float64\n",
      " 7   Natureza de Transação                             604771 non-null  object \n",
      " 8   Valor de Transação (declarado pelo contribuinte)  604771 non-null  object \n",
      " 9   Data de Transação                                 604771 non-null  object \n",
      " 10  Valor Venal de Referência                         604771 non-null  float64\n",
      " 11  Proporção Transmitida (%)                         604771 non-null  float64\n",
      " 12  Valor Venal de Referência (proporcional)          604771 non-null  float64\n",
      " 13  Base de Cálculo adotada                           604397 non-null  float64\n",
      " 14  Tipo de Financiamento                             217474 non-null  object \n",
      " 15  Valor Financiado                                  604770 non-null  float64\n",
      " 16  Cartório de Registro                              604771 non-null  object \n",
      " 17  Matrícula do Imóvel                               604771 non-null  object \n",
      " 18  Situação do SQL                                   604771 non-null  object \n",
      " 19  Área do Terreno (m2)                              604771 non-null  object \n",
      " 20  Testada (m)                                       604771 non-null  float64\n",
      " 21  Fração Ideal                                      604771 non-null  float64\n",
      " 22  Área Construída (m2)                              604771 non-null  int64  \n",
      " 23  Uso (IPTU)                                        604771 non-null  int64  \n",
      " 24  Descrição do uso (IPTU)                           604771 non-null  object \n",
      " 25  Padrão (IPTU)                                     604771 non-null  object \n",
      " 26  ACC (IPTU)                                        604771 non-null  object \n",
      " 27  ACC (IPTU).1                                      538169 non-null  object \n",
      "dtypes: float64(8), int64(3), object(17)\n",
      "memory usage: 129.2+ MB\n"
     ]
    }
   ],
   "source": [
    "data.info()"
   ]
  },
  {
   "cell_type": "code",
   "execution_count": 40,
   "metadata": {},
   "outputs": [
    {
     "name": "stdout",
     "output_type": "stream",
     "text": [
      "N° do Cadastro (SQL)\n",
      "Nome do Logradouro\n",
      "Número\n",
      "Complemento\n",
      "Bairro\n",
      "Referência\n",
      "CEP\n",
      "Natureza de Transação\n",
      "Valor de Transação (declarado pelo contribuinte)\n",
      "Data de Transação\n",
      "Valor Venal de Referência\n",
      "Proporção Transmitida (%)\n",
      "Valor Venal de Referência (proporcional)\n",
      "Base de Cálculo adotada\n",
      "Tipo de Financiamento\n",
      "Valor Financiado\n",
      "Cartório de Registro\n",
      "Matrícula do Imóvel\n",
      "Situação do SQL\n",
      "Área do Terreno (m2)\n",
      "Testada (m)\n",
      "Fração Ideal\n",
      "Área Construída (m2)\n",
      "Uso (IPTU)\n",
      "Descrição do uso (IPTU)\n",
      "Padrão (IPTU)\n",
      "ACC (IPTU)\n",
      "ACC (IPTU).1\n"
     ]
    }
   ],
   "source": [
    "for col in data.columns:\n",
    "    print(col)"
   ]
  },
  {
   "cell_type": "code",
   "execution_count": 118,
   "metadata": {},
   "outputs": [
    {
     "name": "stdout",
     "output_type": "stream",
     "text": [
      "<class 'pandas.core.frame.DataFrame'>\n",
      "RangeIndex: 604771 entries, 0 to 604770\n",
      "Data columns (total 9 columns):\n",
      " #   Column                   Non-Null Count   Dtype  \n",
      "---  ------                   --------------   -----  \n",
      " 0   CEP                      604770 non-null  float64\n",
      " 1   Natureza de Transação    604771 non-null  object \n",
      " 2   Base de Cálculo adotada  604397 non-null  float64\n",
      " 3   Área do Terreno (m2)     604771 non-null  object \n",
      " 4   Testada (m)              604771 non-null  float64\n",
      " 5   Fração Ideal             604771 non-null  float64\n",
      " 6   Área Construída (m2)     604771 non-null  int64  \n",
      " 7   Uso (IPTU)               604771 non-null  int64  \n",
      " 8   Padrão (IPTU)            604771 non-null  object \n",
      "dtypes: float64(4), int64(2), object(3)\n",
      "memory usage: 41.5+ MB\n"
     ]
    }
   ],
   "source": [
    "data1 = data[['CEP','Natureza de Transação','Base de Cálculo adotada','Área do Terreno (m2)', \\\n",
    "                    'Testada (m)', 'Fração Ideal', 'Área Construída (m2)', 'Uso (IPTU)', 'Padrão (IPTU)']]\n",
    "data1.info()"
   ]
  },
  {
   "cell_type": "code",
   "execution_count": 153,
   "metadata": {},
   "outputs": [
    {
     "name": "stderr",
     "output_type": "stream",
     "text": [
      "C:\\Users\\d805664\\AppData\\Local\\Temp\\ipykernel_21004\\1507767143.py:1: SettingWithCopyWarning: \n",
      "A value is trying to be set on a copy of a slice from a DataFrame.\n",
      "Try using .loc[row_indexer,col_indexer] = value instead\n",
      "\n",
      "See the caveats in the documentation: https://pandas.pydata.org/pandas-docs/stable/user_guide/indexing.html#returning-a-view-versus-a-copy\n",
      "  data1['Área do Terreno (m2)'] = data1['Área do Terreno (m2)'].apply(pd.to_numeric,errors='coerce')\n",
      "C:\\Users\\d805664\\AppData\\Local\\Temp\\ipykernel_21004\\1507767143.py:2: SettingWithCopyWarning: \n",
      "A value is trying to be set on a copy of a slice from a DataFrame.\n",
      "Try using .loc[row_indexer,col_indexer] = value instead\n",
      "\n",
      "See the caveats in the documentation: https://pandas.pydata.org/pandas-docs/stable/user_guide/indexing.html#returning-a-view-versus-a-copy\n",
      "  data1['Padrão (IPTU)'] = data1['Padrão (IPTU)'].apply(pd.to_numeric,errors='coerce')\n"
     ]
    }
   ],
   "source": [
    "data1['Área do Terreno (m2)'] = data1['Área do Terreno (m2)'].apply(pd.to_numeric,errors='coerce')\n",
    "data1['Padrão (IPTU)'] = data1['Padrão (IPTU)'].apply(pd.to_numeric,errors='coerce')"
   ]
  },
  {
   "cell_type": "code",
   "execution_count": 117,
   "metadata": {},
   "outputs": [
    {
     "name": "stdout",
     "output_type": "stream",
     "text": [
      "<class 'pandas.core.frame.DataFrame'>\n",
      "RangeIndex: 604771 entries, 0 to 604770\n",
      "Data columns (total 9 columns):\n",
      " #   Column                   Non-Null Count   Dtype  \n",
      "---  ------                   --------------   -----  \n",
      " 0   CEP                      604770 non-null  float64\n",
      " 1   Natureza de Transação    604771 non-null  object \n",
      " 2   Base de Cálculo adotada  604397 non-null  float64\n",
      " 3   Área do Terreno (m2)     604770 non-null  float64\n",
      " 4   Testada (m)              604771 non-null  float64\n",
      " 5   Fração Ideal             604771 non-null  float64\n",
      " 6   Área Construída (m2)     604771 non-null  int64  \n",
      " 7   Uso (IPTU)               604771 non-null  int64  \n",
      " 8   Padrão (IPTU)            604771 non-null  object \n",
      "dtypes: float64(5), int64(2), object(2)\n",
      "memory usage: 41.5+ MB\n"
     ]
    }
   ],
   "source": [
    "data1.info()"
   ]
  },
  {
   "cell_type": "code",
   "execution_count": 66,
   "metadata": {},
   "outputs": [
    {
     "data": {
      "text/html": [
       "<div>\n",
       "<style scoped>\n",
       "    .dataframe tbody tr th:only-of-type {\n",
       "        vertical-align: middle;\n",
       "    }\n",
       "\n",
       "    .dataframe tbody tr th {\n",
       "        vertical-align: top;\n",
       "    }\n",
       "\n",
       "    .dataframe thead th {\n",
       "        text-align: right;\n",
       "    }\n",
       "</style>\n",
       "<table border=\"1\" class=\"dataframe\">\n",
       "  <thead>\n",
       "    <tr style=\"text-align: right;\">\n",
       "      <th></th>\n",
       "      <th>CEP</th>\n",
       "      <th>Base de Cálculo adotada</th>\n",
       "      <th>Área do Terreno (m2)</th>\n",
       "      <th>Testada (m)</th>\n",
       "      <th>Fração Ideal</th>\n",
       "      <th>Área Construída (m2)</th>\n",
       "      <th>transacao_1.Compra e venda</th>\n",
       "      <th>transacao_10.Cessão dos direitos do arrematante</th>\n",
       "      <th>transacao_11.Cessão de direitos de superfície</th>\n",
       "      <th>transacao_12.Dação em pagamento por escritura pública</th>\n",
       "      <th>...</th>\n",
       "      <th>uso_72</th>\n",
       "      <th>uso_73</th>\n",
       "      <th>uso_74</th>\n",
       "      <th>uso_80</th>\n",
       "      <th>uso_81</th>\n",
       "      <th>uso_82</th>\n",
       "      <th>uso_83</th>\n",
       "      <th>uso_84</th>\n",
       "      <th>uso_85</th>\n",
       "      <th>uso_91</th>\n",
       "    </tr>\n",
       "  </thead>\n",
       "  <tbody>\n",
       "    <tr>\n",
       "      <th>0</th>\n",
       "      <td>5083030.0</td>\n",
       "      <td>600000.00</td>\n",
       "      <td>3149.0</td>\n",
       "      <td>70.60</td>\n",
       "      <td>0.0093</td>\n",
       "      <td>133</td>\n",
       "      <td>True</td>\n",
       "      <td>False</td>\n",
       "      <td>False</td>\n",
       "      <td>False</td>\n",
       "      <td>...</td>\n",
       "      <td>False</td>\n",
       "      <td>False</td>\n",
       "      <td>False</td>\n",
       "      <td>False</td>\n",
       "      <td>False</td>\n",
       "      <td>False</td>\n",
       "      <td>False</td>\n",
       "      <td>False</td>\n",
       "      <td>False</td>\n",
       "      <td>False</td>\n",
       "    </tr>\n",
       "    <tr>\n",
       "      <th>1</th>\n",
       "      <td>5754070.0</td>\n",
       "      <td>211000.00</td>\n",
       "      <td>107743.0</td>\n",
       "      <td>1158.14</td>\n",
       "      <td>0.0004</td>\n",
       "      <td>81</td>\n",
       "      <td>True</td>\n",
       "      <td>False</td>\n",
       "      <td>False</td>\n",
       "      <td>False</td>\n",
       "      <td>...</td>\n",
       "      <td>False</td>\n",
       "      <td>False</td>\n",
       "      <td>False</td>\n",
       "      <td>False</td>\n",
       "      <td>False</td>\n",
       "      <td>False</td>\n",
       "      <td>False</td>\n",
       "      <td>False</td>\n",
       "      <td>False</td>\n",
       "      <td>False</td>\n",
       "    </tr>\n",
       "    <tr>\n",
       "      <th>2</th>\n",
       "      <td>8461460.0</td>\n",
       "      <td>426634.00</td>\n",
       "      <td>250.0</td>\n",
       "      <td>10.00</td>\n",
       "      <td>1.0000</td>\n",
       "      <td>244</td>\n",
       "      <td>True</td>\n",
       "      <td>False</td>\n",
       "      <td>False</td>\n",
       "      <td>False</td>\n",
       "      <td>...</td>\n",
       "      <td>False</td>\n",
       "      <td>False</td>\n",
       "      <td>False</td>\n",
       "      <td>False</td>\n",
       "      <td>False</td>\n",
       "      <td>False</td>\n",
       "      <td>False</td>\n",
       "      <td>False</td>\n",
       "      <td>False</td>\n",
       "      <td>False</td>\n",
       "    </tr>\n",
       "    <tr>\n",
       "      <th>3</th>\n",
       "      <td>4516000.0</td>\n",
       "      <td>910000.00</td>\n",
       "      <td>1600.0</td>\n",
       "      <td>40.00</td>\n",
       "      <td>0.0167</td>\n",
       "      <td>162</td>\n",
       "      <td>True</td>\n",
       "      <td>False</td>\n",
       "      <td>False</td>\n",
       "      <td>False</td>\n",
       "      <td>...</td>\n",
       "      <td>False</td>\n",
       "      <td>False</td>\n",
       "      <td>False</td>\n",
       "      <td>False</td>\n",
       "      <td>False</td>\n",
       "      <td>False</td>\n",
       "      <td>False</td>\n",
       "      <td>False</td>\n",
       "      <td>False</td>\n",
       "      <td>False</td>\n",
       "    </tr>\n",
       "    <tr>\n",
       "      <th>4</th>\n",
       "      <td>4145030.0</td>\n",
       "      <td>909231.00</td>\n",
       "      <td>4000.0</td>\n",
       "      <td>80.00</td>\n",
       "      <td>0.0158</td>\n",
       "      <td>277</td>\n",
       "      <td>True</td>\n",
       "      <td>False</td>\n",
       "      <td>False</td>\n",
       "      <td>False</td>\n",
       "      <td>...</td>\n",
       "      <td>False</td>\n",
       "      <td>False</td>\n",
       "      <td>False</td>\n",
       "      <td>False</td>\n",
       "      <td>False</td>\n",
       "      <td>False</td>\n",
       "      <td>False</td>\n",
       "      <td>False</td>\n",
       "      <td>False</td>\n",
       "      <td>False</td>\n",
       "    </tr>\n",
       "    <tr>\n",
       "      <th>...</th>\n",
       "      <td>...</td>\n",
       "      <td>...</td>\n",
       "      <td>...</td>\n",
       "      <td>...</td>\n",
       "      <td>...</td>\n",
       "      <td>...</td>\n",
       "      <td>...</td>\n",
       "      <td>...</td>\n",
       "      <td>...</td>\n",
       "      <td>...</td>\n",
       "      <td>...</td>\n",
       "      <td>...</td>\n",
       "      <td>...</td>\n",
       "      <td>...</td>\n",
       "      <td>...</td>\n",
       "      <td>...</td>\n",
       "      <td>...</td>\n",
       "      <td>...</td>\n",
       "      <td>...</td>\n",
       "      <td>...</td>\n",
       "      <td>...</td>\n",
       "    </tr>\n",
       "    <tr>\n",
       "      <th>604766</th>\n",
       "      <td>3134001.0</td>\n",
       "      <td>83618.00</td>\n",
       "      <td>1389.0</td>\n",
       "      <td>54.00</td>\n",
       "      <td>0.0047</td>\n",
       "      <td>34</td>\n",
       "      <td>True</td>\n",
       "      <td>False</td>\n",
       "      <td>False</td>\n",
       "      <td>False</td>\n",
       "      <td>...</td>\n",
       "      <td>False</td>\n",
       "      <td>False</td>\n",
       "      <td>False</td>\n",
       "      <td>False</td>\n",
       "      <td>False</td>\n",
       "      <td>False</td>\n",
       "      <td>False</td>\n",
       "      <td>False</td>\n",
       "      <td>False</td>\n",
       "      <td>False</td>\n",
       "    </tr>\n",
       "    <tr>\n",
       "      <th>604767</th>\n",
       "      <td>5131050.0</td>\n",
       "      <td>933571.64</td>\n",
       "      <td>600.0</td>\n",
       "      <td>10.00</td>\n",
       "      <td>1.0000</td>\n",
       "      <td>60</td>\n",
       "      <td>True</td>\n",
       "      <td>False</td>\n",
       "      <td>False</td>\n",
       "      <td>False</td>\n",
       "      <td>...</td>\n",
       "      <td>False</td>\n",
       "      <td>False</td>\n",
       "      <td>False</td>\n",
       "      <td>False</td>\n",
       "      <td>False</td>\n",
       "      <td>False</td>\n",
       "      <td>False</td>\n",
       "      <td>False</td>\n",
       "      <td>False</td>\n",
       "      <td>False</td>\n",
       "    </tr>\n",
       "    <tr>\n",
       "      <th>604768</th>\n",
       "      <td>2319050.0</td>\n",
       "      <td>468750.00</td>\n",
       "      <td>150.0</td>\n",
       "      <td>6.00</td>\n",
       "      <td>1.0000</td>\n",
       "      <td>204</td>\n",
       "      <td>True</td>\n",
       "      <td>False</td>\n",
       "      <td>False</td>\n",
       "      <td>False</td>\n",
       "      <td>...</td>\n",
       "      <td>False</td>\n",
       "      <td>False</td>\n",
       "      <td>False</td>\n",
       "      <td>False</td>\n",
       "      <td>False</td>\n",
       "      <td>False</td>\n",
       "      <td>False</td>\n",
       "      <td>False</td>\n",
       "      <td>False</td>\n",
       "      <td>False</td>\n",
       "    </tr>\n",
       "    <tr>\n",
       "      <th>604769</th>\n",
       "      <td>3608010.0</td>\n",
       "      <td>178454.50</td>\n",
       "      <td>105.0</td>\n",
       "      <td>15.00</td>\n",
       "      <td>1.0000</td>\n",
       "      <td>191</td>\n",
       "      <td>False</td>\n",
       "      <td>False</td>\n",
       "      <td>False</td>\n",
       "      <td>False</td>\n",
       "      <td>...</td>\n",
       "      <td>False</td>\n",
       "      <td>False</td>\n",
       "      <td>False</td>\n",
       "      <td>False</td>\n",
       "      <td>False</td>\n",
       "      <td>False</td>\n",
       "      <td>False</td>\n",
       "      <td>False</td>\n",
       "      <td>False</td>\n",
       "      <td>False</td>\n",
       "    </tr>\n",
       "    <tr>\n",
       "      <th>604770</th>\n",
       "      <td>3608010.0</td>\n",
       "      <td>9459.00</td>\n",
       "      <td>21.0</td>\n",
       "      <td>3.00</td>\n",
       "      <td>1.0000</td>\n",
       "      <td>0</td>\n",
       "      <td>False</td>\n",
       "      <td>False</td>\n",
       "      <td>False</td>\n",
       "      <td>False</td>\n",
       "      <td>...</td>\n",
       "      <td>False</td>\n",
       "      <td>False</td>\n",
       "      <td>False</td>\n",
       "      <td>False</td>\n",
       "      <td>False</td>\n",
       "      <td>False</td>\n",
       "      <td>False</td>\n",
       "      <td>False</td>\n",
       "      <td>False</td>\n",
       "      <td>False</td>\n",
       "    </tr>\n",
       "  </tbody>\n",
       "</table>\n",
       "<p>604771 rows × 145 columns</p>\n",
       "</div>"
      ],
      "text/plain": [
       "              CEP  Base de Cálculo adotada  Área do Terreno (m2)  Testada (m)   \n",
       "0       5083030.0                600000.00                3149.0        70.60  \\\n",
       "1       5754070.0                211000.00              107743.0      1158.14   \n",
       "2       8461460.0                426634.00                 250.0        10.00   \n",
       "3       4516000.0                910000.00                1600.0        40.00   \n",
       "4       4145030.0                909231.00                4000.0        80.00   \n",
       "...           ...                      ...                   ...          ...   \n",
       "604766  3134001.0                 83618.00                1389.0        54.00   \n",
       "604767  5131050.0                933571.64                 600.0        10.00   \n",
       "604768  2319050.0                468750.00                 150.0         6.00   \n",
       "604769  3608010.0                178454.50                 105.0        15.00   \n",
       "604770  3608010.0                  9459.00                  21.0         3.00   \n",
       "\n",
       "        Fração Ideal  Área Construída (m2)  transacao_1.Compra e venda   \n",
       "0             0.0093                   133                        True  \\\n",
       "1             0.0004                    81                        True   \n",
       "2             1.0000                   244                        True   \n",
       "3             0.0167                   162                        True   \n",
       "4             0.0158                   277                        True   \n",
       "...              ...                   ...                         ...   \n",
       "604766        0.0047                    34                        True   \n",
       "604767        1.0000                    60                        True   \n",
       "604768        1.0000                   204                        True   \n",
       "604769        1.0000                   191                       False   \n",
       "604770        1.0000                     0                       False   \n",
       "\n",
       "        transacao_10.Cessão dos direitos do arrematante   \n",
       "0                                                 False  \\\n",
       "1                                                 False   \n",
       "2                                                 False   \n",
       "3                                                 False   \n",
       "4                                                 False   \n",
       "...                                                 ...   \n",
       "604766                                            False   \n",
       "604767                                            False   \n",
       "604768                                            False   \n",
       "604769                                            False   \n",
       "604770                                            False   \n",
       "\n",
       "        transacao_11.Cessão de direitos de superfície   \n",
       "0                                               False  \\\n",
       "1                                               False   \n",
       "2                                               False   \n",
       "3                                               False   \n",
       "4                                               False   \n",
       "...                                               ...   \n",
       "604766                                          False   \n",
       "604767                                          False   \n",
       "604768                                          False   \n",
       "604769                                          False   \n",
       "604770                                          False   \n",
       "\n",
       "        transacao_12.Dação em pagamento por escritura pública  ...  uso_72   \n",
       "0                                                   False      ...   False  \\\n",
       "1                                                   False      ...   False   \n",
       "2                                                   False      ...   False   \n",
       "3                                                   False      ...   False   \n",
       "4                                                   False      ...   False   \n",
       "...                                                   ...      ...     ...   \n",
       "604766                                              False      ...   False   \n",
       "604767                                              False      ...   False   \n",
       "604768                                              False      ...   False   \n",
       "604769                                              False      ...   False   \n",
       "604770                                              False      ...   False   \n",
       "\n",
       "        uso_73  uso_74  uso_80  uso_81  uso_82  uso_83  uso_84  uso_85  uso_91  \n",
       "0        False   False   False   False   False   False   False   False   False  \n",
       "1        False   False   False   False   False   False   False   False   False  \n",
       "2        False   False   False   False   False   False   False   False   False  \n",
       "3        False   False   False   False   False   False   False   False   False  \n",
       "4        False   False   False   False   False   False   False   False   False  \n",
       "...        ...     ...     ...     ...     ...     ...     ...     ...     ...  \n",
       "604766   False   False   False   False   False   False   False   False   False  \n",
       "604767   False   False   False   False   False   False   False   False   False  \n",
       "604768   False   False   False   False   False   False   False   False   False  \n",
       "604769   False   False   False   False   False   False   False   False   False  \n",
       "604770   False   False   False   False   False   False   False   False   False  \n",
       "\n",
       "[604771 rows x 145 columns]"
      ]
     },
     "execution_count": 66,
     "metadata": {},
     "output_type": "execute_result"
    }
   ],
   "source": [
    "dum_transacao = pd.get_dummies(data1['Natureza de Transação'], prefix='transacao')\n",
    "dum_uso = pd.get_dummies(data1['Uso (IPTU)'], prefix='uso')\n",
    "dum_padrao = pd.get_dummies(data1['Padrão (IPTU)'], prefix='padrao')\n",
    "data2 = pd.concat([data1,dum_transacao,dum_padrao, dum_uso], axis=1)\n",
    "data2.drop(['Natureza de Transação','Uso (IPTU)','Padrão (IPTU)'], axis=1, inplace=True)\n",
    "data2"
   ]
  },
  {
   "cell_type": "code",
   "execution_count": 68,
   "metadata": {},
   "outputs": [
    {
     "name": "stdout",
     "output_type": "stream",
     "text": [
      "(604771, 145)\n",
      "(604396, 145)\n"
     ]
    }
   ],
   "source": [
    "print(data2.shape)\n",
    "data2.dropna(inplace=True)\n",
    "print(data2.shape)"
   ]
  },
  {
   "cell_type": "code",
   "execution_count": 69,
   "metadata": {},
   "outputs": [
    {
     "name": "stdout",
     "output_type": "stream",
     "text": [
      "MAE:  228162.68970092435\n",
      "MSE:  4920467727770.211\n",
      "RMSE:  2218212.732758112\n"
     ]
    }
   ],
   "source": [
    "#Train test split\n",
    "from sklearn.model_selection import train_test_split\n",
    "\n",
    "X = data2.drop('Base de Cálculo adotada', axis=1)\n",
    "y = data2['Base de Cálculo adotada']\n",
    "\n",
    "X_train, X_test, y_train, y_test = train_test_split(X,y,test_size=0.3, random_state=42)\n",
    "\n",
    "#Model\n",
    "from sklearn.ensemble import RandomForestRegressor\n",
    "\n",
    "model = RandomForestRegressor(n_estimators=100, random_state=42)\n",
    "model.fit(X_train, y_train)\n",
    "\n",
    "#Evaluation\n",
    "from sklearn.metrics import mean_absolute_error, mean_squared_error\n",
    "\n",
    "pred = model.predict(X_test)\n",
    "\n",
    "print('MAE: ', mean_absolute_error(y_test, pred))\n",
    "print('MSE: ', mean_squared_error(y_test, pred))\n",
    "print('RMSE: ', np.sqrt(mean_squared_error(y_test, pred)))\n"
   ]
  },
  {
   "cell_type": "code",
   "execution_count": 72,
   "metadata": {},
   "outputs": [
    {
     "name": "stdout",
     "output_type": "stream",
     "text": [
      "MAPE:  inf\n",
      "R2:  0.4835622206172835\n"
     ]
    }
   ],
   "source": [
    "#Print the Mean Percentage Error (MAPE)\n",
    "def mean_absolute_percentage_error(y_test, pred):\n",
    "    return np.mean(np.abs((y_test - pred) / y_test)) * 100\n",
    "\n",
    "print('MAPE: ', mean_absolute_percentage_error(y_test, pred))\n",
    "\n",
    "#Print the R2 Score\n",
    "from sklearn.metrics import r2_score\n",
    "\n",
    "print('R2: ', r2_score(y_test, pred))\n",
    "\n",
    "#Save the model\n",
    "import pickle\n",
    "pickle.dump(model, open('itbi_model.pkl', 'wb'))\n",
    "\n",
    "#Load the model\n",
    "model = pickle.load(open('itbi_model.pkl', 'rb'))\n",
    "\n"
   ]
  },
  {
   "cell_type": "code",
   "execution_count": 110,
   "metadata": {},
   "outputs": [
    {
     "data": {
      "text/plain": [
       "(241045, 145)"
      ]
     },
     "execution_count": 110,
     "metadata": {},
     "output_type": "execute_result"
    }
   ],
   "source": [
    "data3 = data2[(data2['uso_20'] == True) & (data2['transacao_1.Compra e venda'] == True)]\n",
    "data3.shape"
   ]
  },
  {
   "cell_type": "code",
   "execution_count": 111,
   "metadata": {},
   "outputs": [
    {
     "name": "stdout",
     "output_type": "stream",
     "text": [
      "MAE:  135206.7739357368\n",
      "MSE:  235240983519.22278\n",
      "RMSE:  485016.47757496114\n"
     ]
    }
   ],
   "source": [
    "#Train test split\n",
    "from sklearn.model_selection import train_test_split\n",
    "\n",
    "X3 = data3.drop('Base de Cálculo adotada', axis=1)\n",
    "y3 = data3['Base de Cálculo adotada']\n",
    "\n",
    "X3_train, X3_test, y3_train, y3_test = train_test_split(X3,y3,test_size=0.3, random_state=42)\n",
    "\n",
    "#Model\n",
    "from sklearn.ensemble import RandomForestRegressor\n",
    "\n",
    "model3 = RandomForestRegressor(n_estimators=100, random_state=42)\n",
    "model3.fit(X3_train, y3_train)\n",
    "\n",
    "#Evaluation\n",
    "from sklearn.metrics import mean_absolute_error, mean_squared_error\n",
    "\n",
    "pred3 = model3.predict(X3_test)\n",
    "\n",
    "print('MAE: ', mean_absolute_error(y3_test, pred3))\n",
    "print('MSE: ', mean_squared_error(y3_test, pred3))\n",
    "print('RMSE: ', np.sqrt(mean_squared_error(y3_test, pred3)))"
   ]
  },
  {
   "cell_type": "code",
   "execution_count": 112,
   "metadata": {},
   "outputs": [
    {
     "name": "stdout",
     "output_type": "stream",
     "text": [
      "MAPE:  inf\n",
      "R2:  0.7826862134172132\n"
     ]
    }
   ],
   "source": [
    "#Print the Mean Percentage Error (MAPE)\n",
    "def mean_absolute_percentage_error(y3_test, pred3):\n",
    "    return np.mean(np.abs((y3_test - pred3) / y3_test)) * 100\n",
    "\n",
    "print('MAPE: ', mean_absolute_percentage_error(y3_test, pred3))\n",
    "\n",
    "#Print the R2 Score\n",
    "from sklearn.metrics import r2_score\n",
    "\n",
    "print('R2: ', r2_score(y3_test, pred3))\n",
    "\n",
    "#Save the model\n",
    "import pickle\n",
    "pickle.dump(model3, open('itbi_model3.pkl', 'wb'))\n",
    "\n",
    "#Load the model\n",
    "model3 = pickle.load(open('itbi_model3.pkl', 'rb'))\n"
   ]
  },
  {
   "cell_type": "code",
   "execution_count": 113,
   "metadata": {},
   "outputs": [
    {
     "data": {
      "text/html": [
       "<div>\n",
       "<style scoped>\n",
       "    .dataframe tbody tr th:only-of-type {\n",
       "        vertical-align: middle;\n",
       "    }\n",
       "\n",
       "    .dataframe tbody tr th {\n",
       "        vertical-align: top;\n",
       "    }\n",
       "\n",
       "    .dataframe thead th {\n",
       "        text-align: right;\n",
       "    }\n",
       "</style>\n",
       "<table border=\"1\" class=\"dataframe\">\n",
       "  <thead>\n",
       "    <tr style=\"text-align: right;\">\n",
       "      <th></th>\n",
       "      <th>CEP</th>\n",
       "      <th>Área do Terreno (m2)</th>\n",
       "      <th>Testada (m)</th>\n",
       "      <th>Fração Ideal</th>\n",
       "      <th>Área Construída (m2)</th>\n",
       "      <th>transacao_1.Compra e venda</th>\n",
       "      <th>transacao_10.Cessão dos direitos do arrematante</th>\n",
       "      <th>transacao_11.Cessão de direitos de superfície</th>\n",
       "      <th>transacao_12.Dação em pagamento por escritura pública</th>\n",
       "      <th>transacao_14.Mandato em causa própria</th>\n",
       "      <th>...</th>\n",
       "      <th>uso_72</th>\n",
       "      <th>uso_73</th>\n",
       "      <th>uso_74</th>\n",
       "      <th>uso_80</th>\n",
       "      <th>uso_81</th>\n",
       "      <th>uso_82</th>\n",
       "      <th>uso_83</th>\n",
       "      <th>uso_84</th>\n",
       "      <th>uso_85</th>\n",
       "      <th>uso_91</th>\n",
       "    </tr>\n",
       "  </thead>\n",
       "  <tbody>\n",
       "    <tr>\n",
       "      <th>126587</th>\n",
       "      <td>3280050.0</td>\n",
       "      <td>4460.0</td>\n",
       "      <td>13.65</td>\n",
       "      <td>0.0064</td>\n",
       "      <td>93</td>\n",
       "      <td>True</td>\n",
       "      <td>False</td>\n",
       "      <td>False</td>\n",
       "      <td>False</td>\n",
       "      <td>False</td>\n",
       "      <td>...</td>\n",
       "      <td>False</td>\n",
       "      <td>False</td>\n",
       "      <td>False</td>\n",
       "      <td>False</td>\n",
       "      <td>False</td>\n",
       "      <td>False</td>\n",
       "      <td>False</td>\n",
       "      <td>False</td>\n",
       "      <td>False</td>\n",
       "      <td>False</td>\n",
       "    </tr>\n",
       "    <tr>\n",
       "      <th>582235</th>\n",
       "      <td>4546900.0</td>\n",
       "      <td>6000.0</td>\n",
       "      <td>0.00</td>\n",
       "      <td>0.0035</td>\n",
       "      <td>129</td>\n",
       "      <td>True</td>\n",
       "      <td>False</td>\n",
       "      <td>False</td>\n",
       "      <td>False</td>\n",
       "      <td>False</td>\n",
       "      <td>...</td>\n",
       "      <td>False</td>\n",
       "      <td>False</td>\n",
       "      <td>False</td>\n",
       "      <td>False</td>\n",
       "      <td>False</td>\n",
       "      <td>False</td>\n",
       "      <td>False</td>\n",
       "      <td>False</td>\n",
       "      <td>False</td>\n",
       "      <td>False</td>\n",
       "    </tr>\n",
       "    <tr>\n",
       "      <th>514586</th>\n",
       "      <td>1124000.0</td>\n",
       "      <td>4192.0</td>\n",
       "      <td>33.33</td>\n",
       "      <td>0.0036</td>\n",
       "      <td>61</td>\n",
       "      <td>True</td>\n",
       "      <td>False</td>\n",
       "      <td>False</td>\n",
       "      <td>False</td>\n",
       "      <td>False</td>\n",
       "      <td>...</td>\n",
       "      <td>False</td>\n",
       "      <td>False</td>\n",
       "      <td>False</td>\n",
       "      <td>False</td>\n",
       "      <td>False</td>\n",
       "      <td>False</td>\n",
       "      <td>False</td>\n",
       "      <td>False</td>\n",
       "      <td>False</td>\n",
       "      <td>False</td>\n",
       "    </tr>\n",
       "    <tr>\n",
       "      <th>423120</th>\n",
       "      <td>1226011.0</td>\n",
       "      <td>1883.0</td>\n",
       "      <td>29.00</td>\n",
       "      <td>0.0036</td>\n",
       "      <td>54</td>\n",
       "      <td>True</td>\n",
       "      <td>False</td>\n",
       "      <td>False</td>\n",
       "      <td>False</td>\n",
       "      <td>False</td>\n",
       "      <td>...</td>\n",
       "      <td>False</td>\n",
       "      <td>False</td>\n",
       "      <td>False</td>\n",
       "      <td>False</td>\n",
       "      <td>False</td>\n",
       "      <td>False</td>\n",
       "      <td>False</td>\n",
       "      <td>False</td>\n",
       "      <td>False</td>\n",
       "      <td>False</td>\n",
       "    </tr>\n",
       "    <tr>\n",
       "      <th>62440</th>\n",
       "      <td>4567000.0</td>\n",
       "      <td>2000.0</td>\n",
       "      <td>50.00</td>\n",
       "      <td>0.0043</td>\n",
       "      <td>88</td>\n",
       "      <td>True</td>\n",
       "      <td>False</td>\n",
       "      <td>False</td>\n",
       "      <td>False</td>\n",
       "      <td>False</td>\n",
       "      <td>...</td>\n",
       "      <td>False</td>\n",
       "      <td>False</td>\n",
       "      <td>False</td>\n",
       "      <td>False</td>\n",
       "      <td>False</td>\n",
       "      <td>False</td>\n",
       "      <td>False</td>\n",
       "      <td>False</td>\n",
       "      <td>False</td>\n",
       "      <td>False</td>\n",
       "    </tr>\n",
       "  </tbody>\n",
       "</table>\n",
       "<p>5 rows × 144 columns</p>\n",
       "</div>"
      ],
      "text/plain": [
       "              CEP  Área do Terreno (m2)  Testada (m)  Fração Ideal   \n",
       "126587  3280050.0                4460.0        13.65        0.0064  \\\n",
       "582235  4546900.0                6000.0         0.00        0.0035   \n",
       "514586  1124000.0                4192.0        33.33        0.0036   \n",
       "423120  1226011.0                1883.0        29.00        0.0036   \n",
       "62440   4567000.0                2000.0        50.00        0.0043   \n",
       "\n",
       "        Área Construída (m2)  transacao_1.Compra e venda   \n",
       "126587                    93                        True  \\\n",
       "582235                   129                        True   \n",
       "514586                    61                        True   \n",
       "423120                    54                        True   \n",
       "62440                     88                        True   \n",
       "\n",
       "        transacao_10.Cessão dos direitos do arrematante   \n",
       "126587                                            False  \\\n",
       "582235                                            False   \n",
       "514586                                            False   \n",
       "423120                                            False   \n",
       "62440                                             False   \n",
       "\n",
       "        transacao_11.Cessão de direitos de superfície   \n",
       "126587                                          False  \\\n",
       "582235                                          False   \n",
       "514586                                          False   \n",
       "423120                                          False   \n",
       "62440                                           False   \n",
       "\n",
       "        transacao_12.Dação em pagamento por escritura pública   \n",
       "126587                                              False      \\\n",
       "582235                                              False       \n",
       "514586                                              False       \n",
       "423120                                              False       \n",
       "62440                                               False       \n",
       "\n",
       "        transacao_14.Mandato em causa própria  ...  uso_72  uso_73  uso_74   \n",
       "126587                                  False  ...   False   False   False  \\\n",
       "582235                                  False  ...   False   False   False   \n",
       "514586                                  False  ...   False   False   False   \n",
       "423120                                  False  ...   False   False   False   \n",
       "62440                                   False  ...   False   False   False   \n",
       "\n",
       "        uso_80  uso_81  uso_82  uso_83  uso_84  uso_85  uso_91  \n",
       "126587   False   False   False   False   False   False   False  \n",
       "582235   False   False   False   False   False   False   False  \n",
       "514586   False   False   False   False   False   False   False  \n",
       "423120   False   False   False   False   False   False   False  \n",
       "62440    False   False   False   False   False   False   False  \n",
       "\n",
       "[5 rows x 144 columns]"
      ]
     },
     "execution_count": 113,
     "metadata": {},
     "output_type": "execute_result"
    }
   ],
   "source": [
    "X3_test.head()"
   ]
  },
  {
   "cell_type": "code",
   "execution_count": 154,
   "metadata": {},
   "outputs": [
    {
     "data": {
      "text/plain": [
       "(604771, 9)"
      ]
     },
     "execution_count": 154,
     "metadata": {},
     "output_type": "execute_result"
    }
   ],
   "source": [
    "data1.shape"
   ]
  },
  {
   "cell_type": "code",
   "execution_count": 155,
   "metadata": {},
   "outputs": [
    {
     "data": {
      "text/plain": [
       "array([22., 12., 23., 24., 44., 25., 11., 10.,  0., 83., 32., 13., 84.,\n",
       "       43., 20., 21., 81., 31., 33., 42., 82., 45., 14., 41., 91., 34.,\n",
       "       85., 93., 15., 92., 35., 94., nan])"
      ]
     },
     "execution_count": 155,
     "metadata": {},
     "output_type": "execute_result"
    }
   ],
   "source": [
    "data1['Padrão (IPTU)'].unique()"
   ]
  },
  {
   "cell_type": "code",
   "execution_count": 156,
   "metadata": {},
   "outputs": [
    {
     "name": "stdout",
     "output_type": "stream",
     "text": [
      "(241106, 38)\n",
      "(241045, 38)\n"
     ]
    }
   ],
   "source": [
    "#dum_transacao = pd.get_dummies(data1['Natureza de Transação'], prefix='transacao')\n",
    "#dum_uso = pd.get_dummies(data1['Uso (IPTU)'], prefix='uso')\n",
    "dum_padrao = pd.get_dummies(data1['Padrão (IPTU)'], prefix='padrao')\n",
    "data4 = pd.concat([data1,dum_padrao], axis=1)\n",
    "data4 = data4[(data4['Natureza de Transação'] == '1.Compra e venda') & (data4['Uso (IPTU)'] == 20)]\n",
    "data4.drop(['Natureza de Transação','Uso (IPTU)','Padrão (IPTU)'], axis=1, inplace=True)\n",
    "print(data4.shape)\n",
    "data4.dropna(inplace=True)\n",
    "print(data4.shape)\n"
   ]
  },
  {
   "cell_type": "code",
   "execution_count": 157,
   "metadata": {},
   "outputs": [
    {
     "name": "stdout",
     "output_type": "stream",
     "text": [
      "MAE:  135149.82397381117\n",
      "MSE:  233173245856.91382\n",
      "RMSE:  482880.15682663315\n"
     ]
    }
   ],
   "source": [
    "#Train test split\n",
    "from sklearn.model_selection import train_test_split\n",
    "\n",
    "X4 = data4.drop('Base de Cálculo adotada', axis=1)\n",
    "y4 = data4['Base de Cálculo adotada']\n",
    "\n",
    "X4_train, X4_test, y4_train, y4_test = train_test_split(X4,y4,test_size=0.3, random_state=42)\n",
    "\n",
    "#Model\n",
    "from sklearn.ensemble import RandomForestRegressor\n",
    "\n",
    "model4 = RandomForestRegressor(n_estimators=100, random_state=42)\n",
    "model4.fit(X4_train, y4_train)\n",
    "\n",
    "#Evaluation\n",
    "from sklearn.metrics import mean_absolute_error, mean_squared_error\n",
    "\n",
    "pred4 = model4.predict(X4_test)\n",
    "\n",
    "print('MAE: ', mean_absolute_error(y4_test, pred4))\n",
    "print('MSE: ', mean_squared_error(y4_test, pred4))\n",
    "print('RMSE: ', np.sqrt(mean_squared_error(y4_test, pred4)))"
   ]
  },
  {
   "cell_type": "code",
   "execution_count": 158,
   "metadata": {},
   "outputs": [
    {
     "name": "stdout",
     "output_type": "stream",
     "text": [
      "MAPE:  inf\n",
      "R2:  0.7845963733491006\n"
     ]
    }
   ],
   "source": [
    "#Print the Mean Percentage Error (MAPE)\n",
    "def mean_absolute_percentage_error(y4_test, pred4):\n",
    "    return np.mean(np.abs((y4_test - pred4) / y4_test)) * 100\n",
    "\n",
    "print('MAPE: ', mean_absolute_percentage_error(y4_test, pred4))\n",
    "\n",
    "#Print the R2 Score\n",
    "from sklearn.metrics import r2_score\n",
    "\n",
    "print('R2: ', r2_score(y4_test, pred4))\n",
    "\n",
    "#Save the model\n",
    "import pickle\n",
    "pickle.dump(model4, open('itbi_model4.pkl', 'wb'))\n",
    "\n",
    "#Load the model\n",
    "model4 = pickle.load(open('itbi_model4.pkl', 'rb'))"
   ]
  },
  {
   "cell_type": "code",
   "execution_count": 136,
   "metadata": {},
   "outputs": [
    {
     "data": {
      "text/plain": [
       "'{\"CEP\": 3280050.0, \"\\\\u00c1rea do Terreno (m2)\": 4460.0, \"Testada (m)\": 13.65, \"Fra\\\\u00e7\\\\u00e3o Ideal\": 0.0064, \"\\\\u00c1rea Constru\\\\u00edda (m2)\": 93, \"padrao_0\": false, \"padrao_10\": false, \"padrao_11\": false, \"padrao_12\": false, \"padrao_13\": false, \"padrao_14\": false, \"padrao_15\": false, \"padrao_20\": false, \"padrao_21\": false, \"padrao_22\": false, \"padrao_23\": false, \"padrao_24\": false, \"padrao_25\": false, \"padrao_31\": false, \"padrao_32\": false, \"padrao_33\": false, \"padrao_34\": false, \"padrao_35\": false, \"padrao_41\": false, \"padrao_42\": false, \"padrao_43\": false, \"padrao_44\": false, \"padrao_45\": false, \"padrao_81\": false, \"padrao_82\": false, \"padrao_83\": false, \"padrao_84\": false, \"padrao_85\": false, \"padrao_91\": false, \"padrao_92\": false, \"padrao_93\": false, \"padrao_94\": false, \"padrao_TERRENO\": false}'"
      ]
     },
     "execution_count": 136,
     "metadata": {},
     "output_type": "execute_result"
    }
   ],
   "source": [
    "import json\n",
    "json.dumps(X4_test.iloc[0].to_dict())"
   ]
  },
  {
   "cell_type": "code",
   "execution_count": 159,
   "metadata": {},
   "outputs": [
    {
     "name": "stderr",
     "output_type": "stream",
     "text": [
      "c:\\Users\\d805664\\Documents\\itbi\\itbi\\lib\\site-packages\\sklearn\\base.py:439: UserWarning: X does not have valid feature names, but RandomForestRegressor was fitted with feature names\n",
      "  warnings.warn(\n"
     ]
    },
    {
     "data": {
      "text/plain": [
       "array([243259.47491508])"
      ]
     },
     "execution_count": 159,
     "metadata": {},
     "output_type": "execute_result"
    }
   ],
   "source": [
    "model4.predict(np.array(X4_test.iloc[0]).reshape(1, -1))"
   ]
  },
  {
   "cell_type": "code",
   "execution_count": 160,
   "metadata": {},
   "outputs": [
    {
     "data": {
      "text/plain": [
       "Index(['CEP', 'Área do Terreno (m2)', 'Testada (m)', 'Fração Ideal',\n",
       "       'Área Construída (m2)', 'padrao_0.0', 'padrao_10.0', 'padrao_11.0',\n",
       "       'padrao_12.0', 'padrao_13.0', 'padrao_14.0', 'padrao_15.0',\n",
       "       'padrao_20.0', 'padrao_21.0', 'padrao_22.0', 'padrao_23.0',\n",
       "       'padrao_24.0', 'padrao_25.0', 'padrao_31.0', 'padrao_32.0',\n",
       "       'padrao_33.0', 'padrao_34.0', 'padrao_35.0', 'padrao_41.0',\n",
       "       'padrao_42.0', 'padrao_43.0', 'padrao_44.0', 'padrao_45.0',\n",
       "       'padrao_81.0', 'padrao_82.0', 'padrao_83.0', 'padrao_84.0',\n",
       "       'padrao_85.0', 'padrao_91.0', 'padrao_92.0', 'padrao_93.0',\n",
       "       'padrao_94.0'],\n",
       "      dtype='object')"
      ]
     },
     "execution_count": 160,
     "metadata": {},
     "output_type": "execute_result"
    }
   ],
   "source": [
    "X4_test.columns"
   ]
  },
  {
   "cell_type": "code",
   "execution_count": 142,
   "metadata": {},
   "outputs": [
    {
     "data": {
      "text/plain": [
       "array([[3280050.0, 4460.0, 13.65, 0.0064, 93, False, False, False, False,\n",
       "        False, False, False, False, False, True, False, False, False,\n",
       "        False, False, False, False, False, False, False, False, False,\n",
       "        False, False, False, False, False, False, False, False, False,\n",
       "        False, False, False, False, False, False, False, False, False,\n",
       "        False, False, False, False, False, False, False, False, False,\n",
       "        False, False, False, False, False, False, False, False, False,\n",
       "        False, False, False, False, False, False, False]], dtype=object)"
      ]
     },
     "execution_count": 142,
     "metadata": {},
     "output_type": "execute_result"
    }
   ],
   "source": [
    "np.array(X4_test.iloc[0]).reshape(1, -1)"
   ]
  }
 ],
 "metadata": {
  "kernelspec": {
   "display_name": "itbi",
   "language": "python",
   "name": "python3"
  },
  "language_info": {
   "codemirror_mode": {
    "name": "ipython",
    "version": 3
   },
   "file_extension": ".py",
   "mimetype": "text/x-python",
   "name": "python",
   "nbconvert_exporter": "python",
   "pygments_lexer": "ipython3",
   "version": "3.10.7"
  },
  "orig_nbformat": 4
 },
 "nbformat": 4,
 "nbformat_minor": 2
}
