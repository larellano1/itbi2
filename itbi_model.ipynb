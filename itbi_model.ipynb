{
 "cells": [
  {
   "cell_type": "code",
   "execution_count": 17,
   "metadata": {},
   "outputs": [
    {
     "ename": "ValueError",
     "evalue": "setting an array element with a sequence. The requested array has an inhomogeneous shape after 1 dimensions. The detected shape was (12,) + inhomogeneous part.",
     "output_type": "error",
     "traceback": [
      "\u001b[1;31m---------------------------------------------------------------------------\u001b[0m",
      "\u001b[1;31mValueError\u001b[0m                                Traceback (most recent call last)",
      "Cell \u001b[1;32mIn[17], line 11\u001b[0m\n\u001b[0;32m      9\u001b[0m sheets \u001b[39m=\u001b[39m [sheet \u001b[39mfor\u001b[39;00m sheet \u001b[39min\u001b[39;00m pd\u001b[39m.\u001b[39mread_excel(file, sheet_name\u001b[39m=\u001b[39m\u001b[39mNone\u001b[39;00m)\u001b[39m.\u001b[39mkeys() \u001b[39mif\u001b[39;00m re\u001b[39m.\u001b[39mmatch(\u001b[39mr\u001b[39m\u001b[39m'\u001b[39m\u001b[39m\\\u001b[39m\u001b[39mw\u001b[39m\u001b[39m{3}\u001b[39;00m\u001b[39m-\u001b[39m\u001b[39m\\\u001b[39m\u001b[39md\u001b[39m\u001b[39m{4}\u001b[39;00m\u001b[39m'\u001b[39m,sheet) ]\n\u001b[0;32m     10\u001b[0m df \u001b[39m=\u001b[39m pd\u001b[39m.\u001b[39mread_excel(file,sheet_name\u001b[39m=\u001b[39msheets)\n\u001b[1;32m---> 11\u001b[0m df \u001b[39m=\u001b[39m pd\u001b[39m.\u001b[39;49mDataFrame\u001b[39m.\u001b[39;49mfrom_dict(df, orient\u001b[39m=\u001b[39;49m\u001b[39m'\u001b[39;49m\u001b[39mindex\u001b[39;49m\u001b[39m'\u001b[39;49m)\n\u001b[0;32m     12\u001b[0m data\u001b[39m.\u001b[39mappend(df)\n",
      "File \u001b[1;32mc:\\Users\\d805664\\Documents\\itbi\\itbi\\lib\\site-packages\\pandas\\core\\frame.py:1760\u001b[0m, in \u001b[0;36mDataFrame.from_dict\u001b[1;34m(cls, data, orient, dtype, columns)\u001b[0m\n\u001b[0;32m   1754\u001b[0m     \u001b[39mraise\u001b[39;00m \u001b[39mValueError\u001b[39;00m(\n\u001b[0;32m   1755\u001b[0m         \u001b[39mf\u001b[39m\u001b[39m\"\u001b[39m\u001b[39mExpected \u001b[39m\u001b[39m'\u001b[39m\u001b[39mindex\u001b[39m\u001b[39m'\u001b[39m\u001b[39m, \u001b[39m\u001b[39m'\u001b[39m\u001b[39mcolumns\u001b[39m\u001b[39m'\u001b[39m\u001b[39m or \u001b[39m\u001b[39m'\u001b[39m\u001b[39mtight\u001b[39m\u001b[39m'\u001b[39m\u001b[39m for orient parameter. \u001b[39m\u001b[39m\"\u001b[39m\n\u001b[0;32m   1756\u001b[0m         \u001b[39mf\u001b[39m\u001b[39m\"\u001b[39m\u001b[39mGot \u001b[39m\u001b[39m'\u001b[39m\u001b[39m{\u001b[39;00morient\u001b[39m}\u001b[39;00m\u001b[39m'\u001b[39m\u001b[39m instead\u001b[39m\u001b[39m\"\u001b[39m\n\u001b[0;32m   1757\u001b[0m     )\n\u001b[0;32m   1759\u001b[0m \u001b[39mif\u001b[39;00m orient \u001b[39m!=\u001b[39m \u001b[39m\"\u001b[39m\u001b[39mtight\u001b[39m\u001b[39m\"\u001b[39m:\n\u001b[1;32m-> 1760\u001b[0m     \u001b[39mreturn\u001b[39;00m \u001b[39mcls\u001b[39;49m(data, index\u001b[39m=\u001b[39;49mindex, columns\u001b[39m=\u001b[39;49mcolumns, dtype\u001b[39m=\u001b[39;49mdtype)\n\u001b[0;32m   1761\u001b[0m \u001b[39melse\u001b[39;00m:\n\u001b[0;32m   1762\u001b[0m     realdata \u001b[39m=\u001b[39m data[\u001b[39m\"\u001b[39m\u001b[39mdata\u001b[39m\u001b[39m\"\u001b[39m]\n",
      "File \u001b[1;32mc:\\Users\\d805664\\Documents\\itbi\\itbi\\lib\\site-packages\\pandas\\core\\frame.py:798\u001b[0m, in \u001b[0;36mDataFrame.__init__\u001b[1;34m(self, data, index, columns, dtype, copy)\u001b[0m\n\u001b[0;32m    790\u001b[0m         mgr \u001b[39m=\u001b[39m arrays_to_mgr(\n\u001b[0;32m    791\u001b[0m             arrays,\n\u001b[0;32m    792\u001b[0m             columns,\n\u001b[1;32m   (...)\u001b[0m\n\u001b[0;32m    795\u001b[0m             typ\u001b[39m=\u001b[39mmanager,\n\u001b[0;32m    796\u001b[0m         )\n\u001b[0;32m    797\u001b[0m     \u001b[39melse\u001b[39;00m:\n\u001b[1;32m--> 798\u001b[0m         mgr \u001b[39m=\u001b[39m ndarray_to_mgr(\n\u001b[0;32m    799\u001b[0m             data,\n\u001b[0;32m    800\u001b[0m             index,\n\u001b[0;32m    801\u001b[0m             columns,\n\u001b[0;32m    802\u001b[0m             dtype\u001b[39m=\u001b[39;49mdtype,\n\u001b[0;32m    803\u001b[0m             copy\u001b[39m=\u001b[39;49mcopy,\n\u001b[0;32m    804\u001b[0m             typ\u001b[39m=\u001b[39;49mmanager,\n\u001b[0;32m    805\u001b[0m         )\n\u001b[0;32m    806\u001b[0m \u001b[39melse\u001b[39;00m:\n\u001b[0;32m    807\u001b[0m     mgr \u001b[39m=\u001b[39m dict_to_mgr(\n\u001b[0;32m    808\u001b[0m         {},\n\u001b[0;32m    809\u001b[0m         index,\n\u001b[1;32m   (...)\u001b[0m\n\u001b[0;32m    812\u001b[0m         typ\u001b[39m=\u001b[39mmanager,\n\u001b[0;32m    813\u001b[0m     )\n",
      "File \u001b[1;32mc:\\Users\\d805664\\Documents\\itbi\\itbi\\lib\\site-packages\\pandas\\core\\internals\\construction.py:320\u001b[0m, in \u001b[0;36mndarray_to_mgr\u001b[1;34m(values, index, columns, dtype, copy, typ)\u001b[0m\n\u001b[0;32m    315\u001b[0m     values \u001b[39m=\u001b[39m _ensure_2d(values)\n\u001b[0;32m    317\u001b[0m \u001b[39melse\u001b[39;00m:\n\u001b[0;32m    318\u001b[0m     \u001b[39m# by definition an array here\u001b[39;00m\n\u001b[0;32m    319\u001b[0m     \u001b[39m# the dtypes will be coerced to a single dtype\u001b[39;00m\n\u001b[1;32m--> 320\u001b[0m     values \u001b[39m=\u001b[39m _prep_ndarraylike(values, copy\u001b[39m=\u001b[39;49mcopy_on_sanitize)\n\u001b[0;32m    322\u001b[0m \u001b[39mif\u001b[39;00m dtype \u001b[39mis\u001b[39;00m \u001b[39mnot\u001b[39;00m \u001b[39mNone\u001b[39;00m \u001b[39mand\u001b[39;00m \u001b[39mnot\u001b[39;00m is_dtype_equal(values\u001b[39m.\u001b[39mdtype, dtype):\n\u001b[0;32m    323\u001b[0m     \u001b[39m# GH#40110 see similar check inside sanitize_array\u001b[39;00m\n\u001b[0;32m    324\u001b[0m     values \u001b[39m=\u001b[39m sanitize_array(\n\u001b[0;32m    325\u001b[0m         values,\n\u001b[0;32m    326\u001b[0m         \u001b[39mNone\u001b[39;00m,\n\u001b[1;32m   (...)\u001b[0m\n\u001b[0;32m    329\u001b[0m         allow_2d\u001b[39m=\u001b[39m\u001b[39mTrue\u001b[39;00m,\n\u001b[0;32m    330\u001b[0m     )\n",
      "File \u001b[1;32mc:\\Users\\d805664\\Documents\\itbi\\itbi\\lib\\site-packages\\pandas\\core\\internals\\construction.py:553\u001b[0m, in \u001b[0;36m_prep_ndarraylike\u001b[1;34m(values, copy)\u001b[0m\n\u001b[0;32m    547\u001b[0m \u001b[39m# we could have a 1-dim or 2-dim list here\u001b[39;00m\n\u001b[0;32m    548\u001b[0m \u001b[39m# this is equiv of np.asarray, but does object conversion\u001b[39;00m\n\u001b[0;32m    549\u001b[0m \u001b[39m# and platform dtype preservation\u001b[39;00m\n\u001b[0;32m    550\u001b[0m \u001b[39m# does not convert e.g. [1, \"a\", True] to [\"1\", \"a\", \"True\"] like\u001b[39;00m\n\u001b[0;32m    551\u001b[0m \u001b[39m#  np.asarray would\u001b[39;00m\n\u001b[0;32m    552\u001b[0m \u001b[39mif\u001b[39;00m is_list_like(values[\u001b[39m0\u001b[39m]):\n\u001b[1;32m--> 553\u001b[0m     values \u001b[39m=\u001b[39m np\u001b[39m.\u001b[39;49marray([convert(v) \u001b[39mfor\u001b[39;49;00m v \u001b[39min\u001b[39;49;00m values])\n\u001b[0;32m    554\u001b[0m \u001b[39melif\u001b[39;00m \u001b[39misinstance\u001b[39m(values[\u001b[39m0\u001b[39m], np\u001b[39m.\u001b[39mndarray) \u001b[39mand\u001b[39;00m values[\u001b[39m0\u001b[39m]\u001b[39m.\u001b[39mndim \u001b[39m==\u001b[39m \u001b[39m0\u001b[39m:\n\u001b[0;32m    555\u001b[0m     \u001b[39m# GH#21861 see test_constructor_list_of_lists\u001b[39;00m\n\u001b[0;32m    556\u001b[0m     values \u001b[39m=\u001b[39m np\u001b[39m.\u001b[39marray([convert(v) \u001b[39mfor\u001b[39;00m v \u001b[39min\u001b[39;00m values])\n",
      "\u001b[1;31mValueError\u001b[0m: setting an array element with a sequence. The requested array has an inhomogeneous shape after 1 dimensions. The detected shape was (12,) + inhomogeneous part."
     ]
    }
   ],
   "source": [
    "import pandas as pd\n",
    "import re\n",
    "\n",
    "files = ['itbi2019.xlsx', 'itbi2020.xlsx', 'itbi2021.xlsx', 'itbi2022.xlsx', 'itbi2023.xlsx']\n",
    "\n",
    "data = pd.DataFrame()\n",
    "\n",
    "for file in files:\n",
    "    sheets = [sheet for sheet in pd.read_excel(file, sheet_name=None).keys() if re.match(r'\\w{3}-\\d{4}',sheet) ]\n",
    "    df = pd.read_excel(file,sheet_name=sheets)\n",
    "    for mes in df.keys():\n",
    "        data = data.append(df[mes])\n",
    "\n"
   ]
  }
 ],
 "metadata": {
  "kernelspec": {
   "display_name": "itbi",
   "language": "python",
   "name": "python3"
  },
  "language_info": {
   "codemirror_mode": {
    "name": "ipython",
    "version": 3
   },
   "file_extension": ".py",
   "mimetype": "text/x-python",
   "name": "python",
   "nbconvert_exporter": "python",
   "pygments_lexer": "ipython3",
   "version": "3.10.7"
  },
  "orig_nbformat": 4
 },
 "nbformat": 4,
 "nbformat_minor": 2
}
